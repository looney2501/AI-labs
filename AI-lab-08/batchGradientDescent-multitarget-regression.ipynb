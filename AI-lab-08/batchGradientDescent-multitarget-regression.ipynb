{
 "cells": [
  {
   "cell_type": "markdown",
   "source": [
    "# Linear regression model - Batch Gradient Descent\n",
    "## Weight = f1(Chins, Situps, Jumps)\n",
    "## Waist = f2(Chins, Situps, Jumps)\n",
    "## Pulse = f3(Chins, Stiups, Jumps)"
   ],
   "metadata": {
    "collapsed": false,
    "pycharm": {
     "name": "#%% md\n"
    }
   }
  },
  {
   "cell_type": "code",
   "execution_count": 201,
   "outputs": [],
   "source": [
    "from BGD import BGD, utils\n",
    "import sklearn.metrics"
   ],
   "metadata": {
    "collapsed": false,
    "pycharm": {
     "name": "#%%\n"
    }
   }
  },
  {
   "cell_type": "markdown",
   "source": [
    "#### 1. Load and normalize data"
   ],
   "metadata": {
    "collapsed": false,
    "pycharm": {
     "name": "#%% md\n"
    }
   }
  },
  {
   "cell_type": "code",
   "execution_count": 202,
   "outputs": [
    {
     "name": "stdout",
     "output_type": "stream",
     "text": [
      "[191.0, 189.0, 193.0, 162.0, 189.0, 182.0, 211.0, 167.0, 176.0, 154.0, 169.0, 166.0, 154.0, 247.0, 193.0, 202.0, 176.0, 157.0, 156.0, 138.0]\n",
      "[36.0, 37.0, 38.0, 35.0, 35.0, 36.0, 38.0, 34.0, 31.0, 33.0, 34.0, 33.0, 34.0, 46.0, 36.0, 37.0, 37.0, 32.0, 33.0, 33.0]\n",
      "[50.0, 52.0, 58.0, 62.0, 46.0, 56.0, 56.0, 60.0, 74.0, 56.0, 50.0, 52.0, 64.0, 50.0, 46.0, 62.0, 54.0, 52.0, 54.0, 68.0]\n"
     ]
    }
   ],
   "source": [
    "inputs, outputs = utils.get_linnerud_data()\n",
    "for i in range(len(inputs)):\n",
    "    inputs[i] = utils.statistical_normalisation(inputs[i])\n",
    "for i in range(len(outputs)):\n",
    "    outputs[i] = utils.statistical_normalisation(outputs[i])"
   ],
   "metadata": {
    "collapsed": false,
    "pycharm": {
     "name": "#%%\n"
    }
   }
  },
  {
   "cell_type": "markdown",
   "source": [
    "#### 2. Split data into training and validation subsets"
   ],
   "metadata": {
    "collapsed": false,
    "pycharm": {
     "name": "#%% md\n"
    }
   }
  },
  {
   "cell_type": "markdown",
   "source": [],
   "metadata": {
    "collapsed": false,
    "pycharm": {
     "name": "#%% md\n"
    }
   }
  },
  {
   "cell_type": "code",
   "execution_count": 203,
   "outputs": [],
   "source": [
    "train_inputs, train_outputs, validation_inputs, validation_outputs = utils.split_data_into_training_and_validation_multi_target(\n",
    "    inputs, outputs, 0.8)"
   ],
   "metadata": {
    "collapsed": false,
    "pycharm": {
     "name": "#%%\n"
    }
   }
  },
  {
   "cell_type": "markdown",
   "source": [
    "#### 3. Init and train a linear regression model for every target"
   ],
   "metadata": {
    "collapsed": false,
    "pycharm": {
     "name": "#%% md\n"
    }
   }
  },
  {
   "cell_type": "code",
   "execution_count": 204,
   "outputs": [
    {
     "name": "stdout",
     "output_type": "stream",
     "text": [
      "f1(x1, x2, x3) =  0.0598111159871677 + 0.0013059381635591046 * x1 + 0.005590524778667847 * x2 + 0.0049514399825994326 * x3\n",
      "f2(x1, x2, x3) =  0.01182577471296875 + 0.00025820836572639075 * x1 + 0.0011053511620478691 * x2 + 0.0009789921617842725 * x3\n",
      "f3(x1, x2, x3) =  -0.03150944959066652 + -0.0006879890477552999 * x1 + -0.0029451775943555593 * x2 + -0.002608497533575557 * x3\n"
     ]
    }
   ],
   "source": [
    "X = [[el1, el2, el3] for el1, el2, el3 in zip(train_inputs[0], train_inputs[1], train_inputs[2])]\n",
    "\n",
    "regressor1 = BGD.MyBGDRegressor()\n",
    "regressor1.fit(X, train_outputs[0], learning_rate=0.01, no_epochs=100)\n",
    "w0, w1, w2, w3 = regressor1.intercept_, regressor1.coef_[0], regressor1.coef_[1], regressor1.coef_[2]\n",
    "print('f1(x1, x2, x3) = ', w0, '+', w1, '* x1 +', w2, '* x2 +', w3, '* x3' )\n",
    "regressor2 = BGD.MyBGDRegressor()\n",
    "regressor2.fit(X, train_outputs[1], learning_rate=0.01, no_epochs=100)\n",
    "w0, w1, w2, w3 = regressor2.intercept_, regressor2.coef_[0], regressor2.coef_[1], regressor2.coef_[2]\n",
    "print('f2(x1, x2, x3) = ', w0, '+', w1, '* x1 +', w2, '* x2 +', w3, '* x3' )\n",
    "regressor3 = BGD.MyBGDRegressor()\n",
    "regressor3.fit(X, train_outputs[2], learning_rate=0.01, no_epochs=100)\n",
    "w0, w1, w2, w3 = regressor3.intercept_, regressor3.coef_[0], regressor3.coef_[1], regressor3.coef_[2]\n",
    "print('f3(x1, x2, x3) = ', w0, '+', w1, '* x1 +', w2, '* x2 +', w3, '* x3' )"
   ],
   "metadata": {
    "collapsed": false,
    "pycharm": {
     "name": "#%%\n"
    }
   }
  },
  {
   "cell_type": "markdown",
   "source": [
    "#### 4. Use the learnt model to predict new inputs and compute performance evaluation"
   ],
   "metadata": {
    "collapsed": false,
    "pycharm": {
     "name": "#%% md\n"
    }
   }
  },
  {
   "cell_type": "code",
   "execution_count": 205,
   "outputs": [
    {
     "name": "stdout",
     "output_type": "stream",
     "text": [
      "Prediction error - target 1\n",
      "mean absolute error: 0.6190526633435549\n",
      "root mean squared error: 0.4846581618350094\n",
      "Prediction error - target 2\n",
      "mean absolute error: 0.24152903468737325\n",
      "root mean squared error: 0.07377707917732619\n",
      "Prediction error - target 3\n",
      "mean absolute error: 0.8569854331851903\n",
      "root mean squared error: 1.015487180800629\n"
     ]
    }
   ],
   "source": [
    "computed_validation_outputs = []\n",
    "computed_validation_outputs.append(regressor1.predict([[el1, el2, el3] for el1, el2, el3 in zip(validation_inputs[0], validation_inputs[1], validation_inputs[2])]))\n",
    "computed_validation_outputs.append(regressor2.predict([[el1, el2, el3] for el1, el2, el3 in zip(validation_inputs[0], validation_inputs[1], validation_inputs[2])]))\n",
    "computed_validation_outputs.append(regressor3.predict([[el1, el2, el3] for el1, el2, el3 in zip(validation_inputs[0], validation_inputs[1], validation_inputs[2])]))\n",
    "\n",
    "mae = sklearn.metrics.mean_absolute_error(validation_outputs[0], computed_validation_outputs[0])\n",
    "rmse = sklearn.metrics.mean_squared_error(validation_outputs[0], computed_validation_outputs[0])\n",
    "print('Prediction error - target 1')\n",
    "print('mean absolute error:', mae)\n",
    "print('root mean squared error:', rmse)\n",
    "\n",
    "mae = sklearn.metrics.mean_absolute_error(validation_outputs[1], computed_validation_outputs[1])\n",
    "rmse = sklearn.metrics.mean_squared_error(validation_outputs[1], computed_validation_outputs[1])\n",
    "print('Prediction error - target 2')\n",
    "print('mean absolute error:', mae)\n",
    "print('root mean squared error:', rmse)\n",
    "\n",
    "mae = sklearn.metrics.mean_absolute_error(validation_outputs[2], computed_validation_outputs[2])\n",
    "rmse = sklearn.metrics.mean_squared_error(validation_outputs[2], computed_validation_outputs[2])\n",
    "print('Prediction error - target 3')\n",
    "print('mean absolute error:', mae)\n",
    "print('root mean squared error:', rmse)"
   ],
   "metadata": {
    "collapsed": false,
    "pycharm": {
     "name": "#%%\n"
    }
   }
  },
  {
   "cell_type": "code",
   "execution_count": 205,
   "outputs": [],
   "source": [],
   "metadata": {
    "collapsed": false,
    "pycharm": {
     "name": "#%%\n"
    }
   }
  }
 ],
 "metadata": {
  "kernelspec": {
   "display_name": "Python 3",
   "language": "python",
   "name": "python3"
  },
  "language_info": {
   "codemirror_mode": {
    "name": "ipython",
    "version": 2
   },
   "file_extension": ".py",
   "mimetype": "text/x-python",
   "name": "python",
   "nbconvert_exporter": "python",
   "pygments_lexer": "ipython2",
   "version": "2.7.6"
  }
 },
 "nbformat": 4,
 "nbformat_minor": 0
}
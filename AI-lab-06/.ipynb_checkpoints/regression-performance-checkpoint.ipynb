{
 "cells": [
  {
   "cell_type": "code",
   "execution_count": 3,
   "metadata": {
    "pycharm": {
     "name": "#%%\n"
    }
   },
   "outputs": [],
   "source": [
    "from math import sqrt\n",
    "from pandas import read_csv"
   ]
  },
  {
   "cell_type": "markdown",
   "metadata": {},
   "source": [
    "# Eroare de predictie - regresie multi-target\n",
    "# Reprezinta si loss-ul pentru acest tip de problema"
   ]
  },
  {
   "cell_type": "markdown",
   "metadata": {},
   "source": [
    "Metoda folosita - root mean square error"
   ]
  },
  {
   "cell_type": "code",
   "execution_count": 4,
   "metadata": {
    "pycharm": {
     "name": "#%%\n"
    }
   },
   "outputs": [],
   "source": [
    "\"\"\"\n",
    "    Compute the Real Mean Square Root error for regression problem data.\n",
    "    input: real_outputs - list of real outputs; computed_outputs - list of computed outputs\n",
    "    output: real number, representing the value of the error\n",
    "\"\"\"\n",
    "\n",
    "def RMSE(real_outputs, computed_outputs):\n",
    "    diff = []\n",
    "    for real_output, computed_output in zip(real_outputs, computed_outputs):\n",
    "        diff.append([(r - c) ** 2 for r, c in zip(real_output, computed_output)])\n",
    "    for i in range(len(diff)):\n",
    "        diff[i] = sum(diff[i]) / len(diff[i])\n",
    "    return sqrt(sum(diff) / len(diff))"
   ]
  },
  {
   "cell_type": "code",
   "execution_count": 5,
   "metadata": {
    "pycharm": {
     "name": "#%%\n"
    }
   },
   "outputs": [
    {
     "name": "stdout",
     "output_type": "stream",
     "text": [
      "RMSE =  3.8013155617496426\n"
     ]
    }
   ],
   "source": [
    "data = read_csv('data/sport.csv')\n",
    "\n",
    "real_outputs = []\n",
    "computed_outputs = []\n",
    "\n",
    "for weight, waist, pulse, predicted_weight, predicted_waist, predicted_pulse in zip(data.Weight, data.Waist, data.Pulse, data.PredictedWeight, data.PredictedWaist, data.PredictedPulse):\n",
    "    real_outputs.append([weight, waist, pulse])\n",
    "    computed_outputs.append([predicted_weight, predicted_waist, predicted_pulse])\n",
    "\n",
    "error = RMSE(real_outputs, computed_outputs)\n",
    "\n",
    "print('RMSE = ', error)"
   ]
  },
  {
   "cell_type": "markdown",
   "metadata": {
    "pycharm": {
     "name": "#%% md\n"
    }
   },
   "source": [
    "Metoda folosita - mean absolute error"
   ]
  },
  {
   "cell_type": "code",
   "execution_count": 6,
   "metadata": {
    "pycharm": {
     "name": "#%%\n"
    }
   },
   "outputs": [],
   "source": [
    "\"\"\"\n",
    "    Compute the Real Mean Square Root error for regression problem data.\n",
    "    input: real_outputs - list of real outputs; computed_outputs - list of computed outputs\n",
    "    output: real number, representing the value of the error\n",
    "\"\"\"\n",
    "\n",
    "def MAE(real_outputs, computed_outputs):\n",
    "    diff = []\n",
    "    for real_output, computed_output in zip(real_outputs, computed_outputs):\n",
    "        diff.append([abs(r - c) for r, c in zip(real_output, computed_output)])\n",
    "    for i in range(len(diff)):\n",
    "        diff[i] = sum(diff[i]) / len(diff[i])\n",
    "    return sum(diff) / len(diff)"
   ]
  },
  {
   "cell_type": "code",
   "execution_count": 8,
   "metadata": {
    "pycharm": {
     "name": "#%%\n"
    }
   },
   "outputs": [
    {
     "name": "stdout",
     "output_type": "stream",
     "text": [
      "MAE =  2.7166666666666672\n"
     ]
    }
   ],
   "source": [
    "data = read_csv('data/sport.csv')\n",
    "\n",
    "real_outputs = []\n",
    "computed_outputs = []\n",
    "\n",
    "for weight, waist, pulse, predicted_weight, predicted_waist, predicted_pulse in zip(data.Weight, data.Waist, data.Pulse, data.PredictedWeight, data.PredictedWaist, data.PredictedPulse):\n",
    "    real_outputs.append([weight, waist, pulse])\n",
    "    computed_outputs.append([predicted_weight, predicted_waist, predicted_pulse])\n",
    "\n",
    "error = MAE(real_outputs, computed_outputs)\n",
    "\n",
    "print('MAE = ', error)"
   ]
  }
 ],
 "metadata": {
  "kernelspec": {
   "display_name": "Python 3 (ipykernel)",
   "language": "python",
   "name": "python3"
  },
  "language_info": {
   "codemirror_mode": {
    "name": "ipython",
    "version": 3
   },
   "file_extension": ".py",
   "mimetype": "text/x-python",
   "name": "python",
   "nbconvert_exporter": "python",
   "pygments_lexer": "ipython3",
   "version": "3.9.7"
  }
 },
 "nbformat": 4,
 "nbformat_minor": 1
}

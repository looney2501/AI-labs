{
 "cells": [
  {
   "cell_type": "markdown",
   "metadata": {},
   "source": [
    "# Tehnica Greedy"
   ]
  },
  {
   "cell_type": "markdown",
   "metadata": {},
   "source": [
    "## Obiective\n",
    "- Formularea problemelor ca probleme de căutare şi identificarea modalităţilor de rezolvare a lor. \n",
    "- Specificarea, proiectarea şi implementarea metodelor de căutare euristice.\n",
    "\n",
    "## Cuvinte cheie\n",
    "- cautare\n",
    "- euristica\n",
    "- best solution"
   ]
  },
  {
   "cell_type": "markdown",
   "metadata": {},
   "source": [
    "## Aspecte teoretice"
   ]
  },
  {
   "cell_type": "markdown",
   "metadata": {},
   "source": [
    "Informații privind metoda Greedy propusa de Newman - Newman, M. E. (2004). Fast algorithm for detecting community structure in networks. Physical review E, 69(6), 066133. [link](https://arxiv.org/pdf/cond-mat/0309508.pdf)"
   ]
  },
  {
   "cell_type": "markdown",
   "metadata": {},
   "source": [
    "## Exemple"
   ]
  },
  {
   "cell_type": "markdown",
   "metadata": {},
   "source": [
    "### Demo1"
   ]
  },
  {
   "cell_type": "markdown",
   "metadata": {},
   "source": [
    "#### Problema identificării comunităților într-o rețea complexă\n",
    "\n",
    "Descoperirea și analiza comunităților în rețele este o temă larg dezbătută în sociologie, biologie și informatică. Rețelele complexe reprezintă suportul pentru diferite sisteme reale (facebook, sistemul imun, creierul, infrastrcutura de transport, etc.). O comunitate în aceste rețele este definită ca un grup de noduri dens conectate unele cu altele, dar puțin conectate cu noduri din alte comunități. \n",
    "\n",
    "**Metodologie de rezolvare**\n",
    "- citire date retea si vizualizarea retea\n",
    "- identificare comunitati si vuzualizarea lor\n"
   ]
  },
  {
   "cell_type": "code",
   "execution_count": 1,
   "metadata": {},
   "outputs": [],
   "source": [
    "# prerequisites\n",
    "import os \n",
    "import numpy as np \n",
    "import networkx as nx\n",
    "import matplotlib.pyplot as plt \n",
    "import warnings \n",
    "\n",
    "from networkx.algorithms import community\n",
    "\n",
    "warnings.simplefilter('ignore')\n"
   ]
  },
  {
   "cell_type": "markdown",
   "metadata": {},
   "source": [
    "#### Pasul 1 - citire date si vizualizare"
   ]
  },
  {
   "cell_type": "code",
   "execution_count": 7,
   "metadata": {},
   "outputs": [],
   "source": [
    "# read the network details\n",
    "def readNet(fileName):\n",
    "    f = open(fileName, \"r\")\n",
    "    net = {}\n",
    "    n = int(f.readline())\n",
    "    net['noNodes'] = n\n",
    "    mat = []\n",
    "    for i in range(n):\n",
    "        mat.append([])\n",
    "        line = f.readline()\n",
    "        elems = line.split(\" \")\n",
    "        for j in range(n):\n",
    "            mat[-1].append(int(elems[j]))\n",
    "    net[\"mat\"] = mat \n",
    "    degrees = []\n",
    "    noEdges = 0\n",
    "    for i in range(n):\n",
    "        d = 0\n",
    "        for j in range(n):\n",
    "            if (mat[i][j] == 1):\n",
    "                d += 1\n",
    "            if (j > i):\n",
    "                noEdges += mat[i][j]\n",
    "        degrees.append(d)\n",
    "    net[\"noEdges\"] = noEdges\n",
    "    net[\"degrees\"] = degrees\n",
    "    f.close()\n",
    "    return net\n"
   ]
  },
  {
   "cell_type": "code",
   "execution_count": 30,
   "metadata": {},
   "outputs": [],
   "source": [
    "# plot a network \n",
    "def plotNetwork(network, communities = [1, 1, 1, 1, 1, 1]):\n",
    "    np.random.seed(123) #to freeze the graph's view (networks uses a random view)\n",
    "    A=np.matrix(network[\"mat\"])\n",
    "    G=nx.from_numpy_matrix(A)\n",
    "    print(G.nodes())\n",
    "    pos = nx.spring_layout(G)  # compute graph layout\n",
    "    plt.figure(figsize=(4, 4))  # image is 8 x 8 inches \n",
    "    nx.draw_networkx_nodes(G, pos, node_size=600, cmap=plt.cm.RdYlBu, node_color = communities)\n",
    "    nx.draw_networkx_edges(G, pos, alpha=0.3)\n",
    "    plt.show(G)\n"
   ]
  },
  {
   "cell_type": "code",
   "execution_count": 31,
   "metadata": {
    "scrolled": true
   },
   "outputs": [
    {
     "name": "stdout",
     "output_type": "stream",
     "text": [
      "[0, 1, 2, 3, 4, 5]\n"
     ]
    },
    {
     "data": {
      "image/png": "[encoded data removed]",
      "text/plain": [
       "<Figure size 288x288 with 1 Axes>"
      ]
     },
     "metadata": {},
     "output_type": "display_data"
    }
   ],
   "source": [
    "# load a network\n",
    "crtDir =  os.getcwd()\n",
    "filePath = os.path.join(crtDir,  'data', 'net.in')\n",
    "network = readNet(filePath)\n",
    "\n",
    "#plot the network\n",
    "plotNetwork(network)"
   ]
  },
  {
   "cell_type": "markdown",
   "metadata": {},
   "source": [
    "#### Pasul 2 - identificare comunitati si vizualizare"
   ]
  },
  {
   "cell_type": "code",
   "execution_count": 5,
   "metadata": {},
   "outputs": [
    {
     "data": {
      "image/png": "[encoded data removed]",
      "text/plain": [
       "<Figure size 288x288 with 1 Axes>"
      ]
     },
     "metadata": {},
     "output_type": "display_data"
    }
   ],
   "source": [
    "# plot a particular (mock) division in communities\n",
    "mockCommunities = [1,2,1,2,1, 1]\n",
    "plotNetwork(network, mockCommunities)"
   ]
  },
  {
   "cell_type": "code",
   "execution_count": 27,
   "metadata": {},
   "outputs": [
    {
     "data": {
      "image/png": "[encoded data removed]",
      "text/plain": [
       "<Figure size 288x288 with 1 Axes>"
      ]
     },
     "metadata": {},
     "output_type": "display_data"
    }
   ],
   "source": [
    "# identify the communities (by a tool) and plot them\n",
    "\n",
    "def greedyCommunitiesDetectionByTool(network):\n",
    "    # Input: a graph\n",
    "    # Output: list of comunity index (for every node)\n",
    "\n",
    "    from networkx.algorithms import community\n",
    "\n",
    "    A=np.matrix(network[\"mat\"])\n",
    "    G=nx.from_numpy_matrix(A)\n",
    "    communities_generator = community.girvan_newman(G)\n",
    "    top_level_communities = next(communities_generator)\n",
    "    top_level_communities = sorted(map(sorted, top_level_communities))\n",
    "    communities = [0 for node in range(network['noNodes'])]\n",
    "    index = 1\n",
    "    for community in top_level_communities:\n",
    "        for node in community:\n",
    "            communities[node] = index\n",
    "        index += 1\n",
    "    return communities\n",
    "\n",
    "plotNetwork(network, greedyCommunitiesDetectionByTool(network))\n"
   ]
  },
  {
   "cell_type": "markdown",
   "metadata": {},
   "source": [
    "## Tema"
   ]
  },
  {
   "cell_type": "markdown",
   "metadata": {},
   "source": [
    "\n",
    "Se cere identificarea comunităților existente într-o rețea folosind un algoritm Greedy. Se vor folosi:\n",
    "- informații privind metoda Greedy propusa de Newman - Newman, M. E. (2004). Fast algorithm for detecting community structure in networks. Physical review E, 69(6), 066133. [link](https://arxiv.org/pdf/cond-mat/0309508.pdf)\n",
    "- reteaua sociala dezvoltata semestrul trecut la MAP (cu construirea in prealabil a grafului corespunzator ei)\n",
    "- cele 4 rețele / seturi de date din folderul asociat laboratorului current (in format GML – more details [here](https://www.fim.uni-passau.de/fileadmin/dokumente/fakultaeten/fim/lehrstuhl/rutter/abschlussarbeiten/ba-goetz.pdf))\n",
    "-\trețele / seturi de date identificate de student \n",
    "\n",
    "Aplicaţia (specificata, proiectata si implementata) trebuie să permită:\n",
    "-\tÎncărcarea datelor problemei \n",
    "-\tAlegerea şi parametrizarea metodei de rezolvare a problemei\n",
    "-\tAfişarea soluţiei identificate\n",
    "-\tPrecizarea performanţelor metodei de rezolvare alese\n",
    "\n",
    "Aplicația trebuie să respecte specificațiile privind datele de intrare și datele de ieșire.\n",
    "\n",
    "Aplicația va fi testată folosind date de difcultăți diferite (fiecare test validat având asociat un anumit punctaj).\n",
    "\n",
    "Datele de intrare sunt reprezentate de:\n",
    "-\tgraful retelei\n",
    "-\tparametrii algoritmului\n",
    "\n",
    "Datele de iesire sunt reprezentate de:\n",
    "-\tnumarul de comunitati identificate in graf\n",
    "-\tapartenenta la o anumita comunitate pentru fiecare nod al grafului/retelei\n"
   ]
  },
  {
   "cell_type": "code",
   "execution_count": null,
   "metadata": {},
   "outputs": [],
   "source": [
    "# identify the communities (by your own code) and plot them\n",
    "\n",
    "def greedyCommunitiesDetection(network):\n",
    "    # Input: a graph\n",
    "    # Output: list of comunity index (for every node)\n",
    "\n",
    "    # TODOS\n",
    "    pass\n",
    "\n",
    "plotNetwork(network, greedyCommunitiesDetection(network))"
   ]
  }
 ],
 "metadata": {
  "interpreter": {
   "hash": "e9dc543f66030a8dac45661f55ca2fb15f567084184f0424c1f0b6ed578c96be"
  },
  "kernelspec": {
   "display_name": "Python 3 (ipykernel)",
   "language": "python",
   "name": "python3"
  },
  "language_info": {
   "codemirror_mode": {
    "name": "ipython",
    "version": 3
   },
   "file_extension": ".py",
   "mimetype": "text/x-python",
   "name": "python",
   "nbconvert_exporter": "python",
   "pygments_lexer": "ipython3",
   "version": "3.9.7"
  }
 },
 "nbformat": 4,
 "nbformat_minor": 2
}

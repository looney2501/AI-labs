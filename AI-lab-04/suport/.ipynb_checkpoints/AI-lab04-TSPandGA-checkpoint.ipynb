{
 "cells": [
  {
   "cell_type": "markdown",
   "metadata": {},
   "source": [
    "# Algoritmi evolutivi"
   ]
  },
  {
   "cell_type": "markdown",
   "metadata": {},
   "source": [
    "## Obiective\n",
    "- Formularea problemelor ca probleme de căutare şi identificarea modalităţilor de rezolvare a lor. \n",
    "- Specificarea, proiectarea şi implementarea metodelor de căutare bazate pe algoritmi evolutivi.\n",
    "\n",
    "## Cuvinte cheie\n",
    "- Algoritm Genetic\n",
    "- potentiala solutie, cromozom\n",
    "- fitness\n",
    "- operatori genetici (selectie, incrucisare, mutatie)"
   ]
  },
  {
   "cell_type": "markdown",
   "metadata": {},
   "source": [
    "## Aspecte teoretice"
   ]
  },
  {
   "cell_type": "markdown",
   "metadata": {},
   "source": [
    "### Optimization problems\n",
    "\n",
    "> Local optimization:  \n",
    "\n",
    ">> for a function $f:D\\to R$, $$D=[a_1,b_1]\\times [a_2,b_2]\\times \\ldots \\times [a_n,b_n],$$ find $x^*\\in D$,  such that $f(x^*)\\leq f(x)$ for all $x\\in D$\n",
    "\n",
    "<details>\n",
    "  <summary>Remember the theory behind optimisation problems</summary>\n",
    "\n",
    "- if D is continous => Continous optimisation problems, such as:\n",
    "    - Sphere function (uni-modal, convex function) $f:R^n\\rightarrow R$, $$f(x^1,\\ldots, x^n)=\\sum_{i=1}^n (x^i)^2$$ (unique optimum)\n",
    "\n",
    "    - Griewank function (uni-modal, non-convex function) $f:R^n\\rightarrow R$, $$f(x^1\\ldots, x^n)= 1 + \\sum_{i=1}^{n} (x^i)^2/4000 - \\prod_{i=1}^{n} \\cos(x^i)/\\sqrt(i)$$ \n",
    "\n",
    "    - Rastrigin function (multi-modal) $f:R^n\\rightarrow R$, $$f(x^1\\ldots, x^n)=10 n + \\sum_{i=1}^{n} ((x^i)^2 - 10 \\cos(2\\pi x^i))$$\n",
    "\n",
    "    - More details  [here](https://www.sfu.ca/~ssurjano/optimization.html)\n",
    "\n",
    "- if D is discrete => Discrete optimisation problems, such as:\n",
    "    - travelling salesman problem (TSP)\n",
    "    - knapsack problem \n",
    "\n",
    "</details>"
   ]
  },
  {
   "cell_type": "markdown",
   "metadata": {},
   "source": [
    "### Metodologia pentru rezolvarea unei probleme cu ajutorul algoritmilor evolutivi\n",
    "\n",
    "- analiza problemei si reprezentarea potentialelor solutii\n",
    "- definirea functiei de fitness\n",
    "- definirea operatorilor genetici (Selectie, incrucisare, mutatie)\n",
    "- stabilirea schemei evolutive (algoritm generational, steady-state, etc.)\n",
    "- alegerea solutiei optime\n",
    "\n"
   ]
  },
  {
   "cell_type": "markdown",
   "metadata": {},
   "source": [
    "## Exemple "
   ]
  },
  {
   "cell_type": "markdown",
   "metadata": {},
   "source": [
    "### Demo 1"
   ]
  },
  {
   "cell_type": "markdown",
   "metadata": {},
   "source": [
    "#### Problema\n",
    "\n",
    "Genrarea unei permutari random"
   ]
  },
  {
   "cell_type": "code",
   "execution_count": 5,
   "metadata": {},
   "outputs": [
    {
     "name": "stdout",
     "output_type": "stream",
     "text": [
      "[7, 1, 2, 3, 4, 5, 6, 0, 8, 9]\n",
      "[3, 1, 2, 0, 4, 5, 6, 7, 8, 9]\n",
      "[0, 1, 2, 3, 9, 5, 6, 7, 8, 4]\n",
      "[0, 1, 2, 3, 4, 8, 6, 7, 5, 9]\n"
     ]
    }
   ],
   "source": [
    "from random import randint, seed\n",
    "\n",
    "\n",
    "def generateARandomPermutation(n):\n",
    "    perm = [i for i in range(n)]\n",
    "    pos1 = randint(0, n - 1)\n",
    "    pos2 = randint(0, n - 1)\n",
    "    perm[pos1], perm[pos2] = perm[pos2], perm[pos1]\n",
    "    return perm\n",
    "\n",
    "print(generateARandomPermutation(10))\n",
    "print(generateARandomPermutation(10))\n",
    "# if we fix the seed, we obtain the same results for all runs\n",
    "seed(5)\n",
    "print(generateARandomPermutation(10))\n",
    "print(generateARandomPermutation(10))\n"
   ]
  },
  {
   "cell_type": "markdown",
   "metadata": {},
   "source": [
    "## Tema"
   ]
  },
  {
   "cell_type": "markdown",
   "metadata": {},
   "source": [
    "### Problema\n",
    "\n",
    "Să se identifice cel mai scurt drum care pleacă dintr-un nod, vizitează toate nodurile (fiecare nod este vizitat o singură dată) și revine în locația de start folosind un algoritm evolutiv. Se vor folosi:\n",
    "- informatii din lucrarea Gonen, B., & Louis, S. J. (2006). Genetic Algorithm finding the shortest path in Networks. Reno: University of Nevada [link](http://citeseerx.ist.psu.edu/viewdoc/download?doi=10.1.1.712.8445&rep=rep1&type=pdf)\n",
    "- reteaua sociala dezvoltata semestrul trecut la MAP (cu construirea in prealabil a grafului corespunzator ei)\n",
    "- exemplele din arhiva TSP.zip\n",
    "\n",
    "Aplicaţia (specificata, proiectata si implementata) trebuie să permită:\n",
    "-\tÎncărcarea datelor problemei \n",
    "-\tAlegerea şi parametrizarea metodei de rezolvare a problemei\n",
    "-\tAfişarea soluţiei identificate\n",
    "-\tPrecizarea performanţelor metodei de rezolvare alese\n",
    "\n",
    "Aplicația trebuie să respecte specificațiile privind datele de intrare și datele de ieșire.\n",
    "\n",
    "Aplicația va fi testată folosind date de difcultăți diferite (fiecare test validat având asociat un anumit punctaj).\n",
    "\n",
    "Datele de intrare sunt reprezentate de:\n",
    "-\tgraful retelei\n",
    "-\tparametrii algoritmului\n",
    "\n",
    "Datele de iesire sunt reprezentate de:\n",
    "-\tordinea in care trebuie vizitate nodurile pentru a obtine cel mai bun drum\n",
    "\n",
    "## 🏵️Cerinte optionale\n",
    "\n",
    "1. In cazul existentei mai multor solutii, precizati toate solutiile. Analizati diversitatea populatiei de potentiale solutii.\n",
    "\n",
    "2. Cum impacteaza metoda de rezolvare si solutia/solutiile identificate modificarea cerintei astfel: *Să se identifice cel mai scurt drum care pleacă dintr-un nod și revine în locația de start folosind un algoritm evolutiv.*"
   ]
  }
 ],
 "metadata": {
  "file_extension": ".py",
  "interpreter": {
   "hash": "e9dc543f66030a8dac45661f55ca2fb15f567084184f0424c1f0b6ed578c96be"
  },
  "kernelspec": {
   "display_name": "Python 3 (ipykernel)",
   "language": "python",
   "name": "python3"
  },
  "language_info": {
   "codemirror_mode": {
    "name": "ipython",
    "version": 3
   },
   "file_extension": ".py",
   "mimetype": "text/x-python",
   "name": "python",
   "nbconvert_exporter": "python",
   "pygments_lexer": "ipython3",
   "version": "3.9.7"
  },
  "mimetype": "text/x-python",
  "name": "python",
  "npconvert_exporter": "python",
  "pygments_lexer": "ipython3",
  "version": 3
 },
 "nbformat": 4,
 "nbformat_minor": 2
}

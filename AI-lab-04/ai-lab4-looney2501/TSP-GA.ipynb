{
 "cells": [
  {
   "cell_type": "code",
   "execution_count": 1,
   "id": "e42ebd6f",
   "metadata": {
    "pycharm": {
     "name": "#%%\n"
    }
   },
   "outputs": [],
   "source": [
    "import os\n",
    "from domain.GA import GA"
   ]
  },
  {
   "cell_type": "code",
   "execution_count": 2,
   "id": "b955a6ed",
   "metadata": {
    "pycharm": {
     "name": "#%%\n"
    }
   },
   "outputs": [],
   "source": [
    "\"\"\"\n",
    "    Read the weighted adjacency matrix for a network located in a specified file.\n",
    "    input: name of file containing the network\n",
    "    output: weighted adjacency matrix of the network\n",
    "\"\"\"\n",
    "def readNetwork(fileName):\n",
    "    crtDir = os.getcwd()\n",
    "    filePath = os.path.join(crtDir, 'data', fileName + '.txt')\n",
    "    network = []\n",
    "    with open(filePath, 'r') as networkFile:\n",
    "        for line in networkFile.readlines():\n",
    "            network.append([float(num) for num in line.split()])\n",
    "    return network"
   ]
  },
  {
   "cell_type": "code",
   "execution_count": 3,
   "id": "a1ef28e4",
   "metadata": {
    "pycharm": {
     "name": "#%%\n"
    }
   },
   "outputs": [],
   "source": [
    "\"\"\"\n",
    "    Save TSP path result to file.\n",
    "    input: name of the file, list of chromosomes that have the best fitness\n",
    "\"\"\"\n",
    "def saveResultToFile(fileName, bestChromosomesRepres, bestFitness):\n",
    "    crtDir = os.getcwd()\n",
    "    filePath = os.path.join(crtDir, 'output', fileName + '.txt')\n",
    "    with open(filePath, 'w') as outputFile:\n",
    "        outputFile.write(str(bestFitness) + '\\n')\n",
    "        print(str(bestFitness) + '\\n')\n",
    "        for chromosomeRepres in bestChromosomesRepres:\n",
    "            for node in chromosomeRepres:\n",
    "                print(str(node), end='-')\n",
    "                outputFile.write(str(node) + '-')\n",
    "            print(str(chromosomeRepres[0]) + '\\n')\n",
    "            outputFile.write(str(chromosomeRepres[0]) + '\\n')"
   ]
  },
  {
   "cell_type": "code",
   "execution_count": 4,
   "id": "4877de9c",
   "metadata": {
    "pycharm": {
     "name": "#%%\n"
    }
   },
   "outputs": [],
   "source": [
    "\"\"\"\n",
    "    Calculate the fitness of a chromosome used in TSP solving.\n",
    "    input: chromosome\n",
    "    output: fitness of the chromosome\n",
    "\"\"\"\n",
    "def fitnessTSP(chromosome):\n",
    "    totalWeight = 0\n",
    "    for i in range(len(chromosome.repres)):\n",
    "        totalWeight += chromosome.weightedAdjList[chromosome.repres[i-1]][chromosome.repres[i]]\n",
    "    return totalWeight"
   ]
  },
  {
   "cell_type": "code",
   "execution_count": 33,
   "id": "a273f042",
   "metadata": {
    "pycharm": {
     "name": "#%%\n"
    }
   },
   "outputs": [],
   "source": [
    "\"\"\"\n",
    "    Determine the paths of TSP with the smallest weight. Save result to file.\n",
    "    input: name of file containing the weighted adjacency matrix, the number of generations to be evolved by the genetic algorithm\n",
    "\"\"\"\n",
    "def travelingSalesmanProblemGA(fileName, expectedGenerations):\n",
    "    network = readNetwork(fileName)\n",
    "    gaParam = {'popSize': len(network) * 3, 'noGen': 1000}\n",
    "    problParam = {'noNodes': len(network), 'function': fitnessTSP, 'weightedAdjList': network}\n",
    "\n",
    "    ga = GA(gaParam, problParam)\n",
    "    currentGen = 0\n",
    "    while currentGen <= expectedGenerations:\n",
    "        ga.oneGenerationElitism()\n",
    "        currentGen += 1\n",
    "\n",
    "    bestChromosomesRepres = []\n",
    "    bestFitness = ga.bestChromosome().fitness\n",
    "    for chromosome in ga.population:\n",
    "        if chromosome.fitness == bestFitness:\n",
    "            bestChromosomesRepres.append(chromosome.repres)\n",
    "    bestChromosomesRepres = set(tuple(chromosomeRepres) for chromosomeRepres in bestChromosomesRepres)\n",
    "\n",
    "    saveResultToFile(fileName, bestChromosomesRepres, bestFitness)"
   ]
  },
  {
   "cell_type": "code",
   "execution_count": 6,
   "id": "8e8d57bc",
   "metadata": {
    "pycharm": {
     "name": "#%%\n"
    },
    "scrolled": false
   },
   "outputs": [
    {
     "name": "stdout",
     "output_type": "stream",
     "text": [
      "14.0\n",
      "\n",
      "3-2-1-0-3\n",
      "\n",
      "2-3-0-1-2\n",
      "\n",
      "0-1-2-3-0\n",
      "\n",
      "2-1-0-3-2\n",
      "\n",
      "3-0-1-2-3\n",
      "\n",
      "0-3-2-1-0\n",
      "\n"
     ]
    }
   ],
   "source": [
    "travelingSalesmanProblemGA('easy-01', 100)\n",
    "# 14"
   ]
  },
  {
   "cell_type": "code",
   "execution_count": 7,
   "id": "35fc82f2",
   "metadata": {
    "scrolled": true
   },
   "outputs": [
    {
     "name": "stdout",
     "output_type": "stream",
     "text": [
      "19.0\n",
      "\n",
      "1-4-3-0-2-1\n",
      "\n"
     ]
    }
   ],
   "source": [
    "travelingSalesmanProblemGA('easy-02', 100)\n",
    "# 19"
   ]
  },
  {
   "cell_type": "code",
   "execution_count": 8,
   "id": "80bb224a",
   "metadata": {
    "scrolled": true
   },
   "outputs": [
    {
     "name": "stdout",
     "output_type": "stream",
     "text": [
      "23.0\n",
      "\n",
      "0-5-3-4-1-2-0\n",
      "\n",
      "2-1-4-0-5-3-2\n",
      "\n",
      "5-3-4-1-2-0-5\n",
      "\n",
      "5-0-2-1-4-3-5\n",
      "\n"
     ]
    }
   ],
   "source": [
    "travelingSalesmanProblemGA('easy-03', 100)"
   ]
  },
  {
   "cell_type": "code",
   "execution_count": 34,
   "id": "5afcf22d",
   "metadata": {
    "scrolled": false
   },
   "outputs": [
    {
     "name": "stdout",
     "output_type": "stream",
     "text": [
      "378.0\n",
      "\n",
      "9-14-8-4-6-11-13-2-12-1-0-10-3-5-7-9\n",
      "\n"
     ]
    }
   ],
   "source": [
    "travelingSalesmanProblemGA('medium-01', 20000)\n",
    "# 291"
   ]
  },
  {
   "cell_type": "code",
   "execution_count": 37,
   "id": "c633d1e0",
   "metadata": {
    "scrolled": true
   },
   "outputs": [
    {
     "name": "stdout",
     "output_type": "stream",
     "text": [
      "2569.0\n",
      "\n",
      "12-14-4-10-1-9-2-7-16-13-5-6-3-8-11-15-0-12\n",
      "\n"
     ]
    }
   ],
   "source": [
    "travelingSalesmanProblemGA('medium-02', 2000)\n",
    "# 2085"
   ]
  },
  {
   "cell_type": "code",
   "execution_count": 39,
   "id": "122ee5b2",
   "metadata": {
    "scrolled": false
   },
   "outputs": [
    {
     "name": "stdout",
     "output_type": "stream",
     "text": [
      "107230.0\n",
      "\n",
      "2-38-11-0-43-22-46-3-25-23-44-4-9-34-47-12-15-33-41-10-35-36-17-5-8-28-37-40-24-20-29-45-6-30-7-14-32-19-18-13-31-27-39-26-42-16-21-1-2\n",
      "\n"
     ]
    }
   ],
   "source": [
    "travelingSalesmanProblemGA('hard-01', 2000)\n",
    "# 33523"
   ]
  },
  {
   "cell_type": "code",
   "execution_count": 12,
   "id": "dd35763a",
   "metadata": {},
   "outputs": [
    {
     "name": "stdout",
     "output_type": "stream",
     "text": [
      "699.0\n",
      "\n",
      "0-1-2-3-4-5-6-7-8-9-10-11-12-13-14-15-16-17-18-19-20-21-22-23-24-25-26-27-28-29-30-31-32-33-34-35-36-37-38-39-40-41-0\n",
      "\n"
     ]
    }
   ],
   "source": [
    "travelingSalesmanProblemGA('hard-02', 2000)\n",
    "# 699"
   ]
  },
  {
   "cell_type": "code",
   "execution_count": null,
   "id": "020e9121",
   "metadata": {},
   "outputs": [],
   "source": []
  }
 ],
 "metadata": {
  "kernelspec": {
   "display_name": "Python 3 (ipykernel)",
   "language": "python",
   "name": "python3"
  },
  "language_info": {
   "codemirror_mode": {
    "name": "ipython",
    "version": 3
   },
   "file_extension": ".py",
   "mimetype": "text/x-python",
   "name": "python",
   "nbconvert_exporter": "python",
   "pygments_lexer": "ipython3",
   "version": "3.9.7"
  }
 },
 "nbformat": 4,
 "nbformat_minor": 5
}

{
 "cells": [
  {
   "cell_type": "code",
   "execution_count": 1,
   "outputs": [],
   "source": [
    "from utils import *"
   ],
   "metadata": {
    "collapsed": false,
    "pycharm": {
     "name": "#%%\n"
    }
   }
  },
  {
   "cell_type": "markdown",
   "source": [
    "# Clasificarea imaginilor cu si fara filtru sepia - RNAC"
   ],
   "metadata": {
    "collapsed": false,
    "pycharm": {
     "name": "#%% md\n"
    }
   }
  },
  {
   "cell_type": "markdown",
   "source": [
    "### Pasul 1 - incarcarea datelor si afisarea distributiei lor"
   ],
   "metadata": {
    "collapsed": false,
    "pycharm": {
     "name": "#%% md\n"
    }
   }
  },
  {
   "cell_type": "code",
   "execution_count": 2,
   "outputs": [
    {
     "data": {
      "text/plain": "<Figure size 432x288 with 1 Axes>",
      "image/png": "[encoded data removed]"
     },
     "metadata": {
      "needs_background": "light"
     },
     "output_type": "display_data"
    }
   ],
   "source": [
    "# creeaza un input de 100 de imagini, din care 50 au filtrul sepia\n",
    "inputs, real_outputs = load_sepia()\n",
    "labeled_outputs = ['sepia' if i == 1 else 'normal' for i in real_outputs]\n",
    "\n",
    "# afiseaza o histograma a distributiei outputurilor\n",
    "plot_data_histograms(real_outputs, 'outputs')"
   ],
   "metadata": {
    "collapsed": false,
    "pycharm": {
     "name": "#%%\n"
    }
   }
  },
  {
   "cell_type": "markdown",
   "source": [
    "### Pasul 2 - Impartirea datelor in date de antrenament si date de validare si normalizarea datelor"
   ],
   "metadata": {
    "collapsed": false,
    "pycharm": {
     "name": "#%% md\n"
    }
   }
  },
  {
   "cell_type": "code",
   "execution_count": 3,
   "outputs": [
    {
     "name": "stdout",
     "output_type": "stream",
     "text": [
      "[[[0.3372549  0.30196078 0.23529412]\n",
      "  [0.4        0.35294118 0.2745098 ]\n",
      "  [0.24313725 0.21568627 0.16862745]\n",
      "  ...\n",
      "  [0.20784314 0.18431373 0.14509804]\n",
      "  [0.15686275 0.1372549  0.10588235]\n",
      "  [0.14117647 0.1254902  0.09803922]]\n",
      "\n",
      " [[0.42352941 0.37647059 0.29019608]\n",
      "  [0.43921569 0.38823529 0.30196078]\n",
      "  [0.2745098  0.24313725 0.18823529]\n",
      "  ...\n",
      "  [0.25490196 0.22745098 0.17647059]\n",
      "  [0.16078431 0.14509804 0.10980392]\n",
      "  [0.20392157 0.18039216 0.14117647]]\n",
      "\n",
      " [[0.41568627 0.36862745 0.28627451]\n",
      "  [0.38823529 0.34509804 0.27058824]\n",
      "  [0.3254902  0.29019608 0.22745098]\n",
      "  ...\n",
      "  [0.26666667 0.23921569 0.18431373]\n",
      "  [0.20392157 0.18431373 0.14117647]\n",
      "  [0.16862745 0.14901961 0.11764706]]\n",
      "\n",
      " ...\n",
      "\n",
      " [[0.91764706 0.81568627 0.63529412]\n",
      "  [0.90196078 0.80392157 0.62352941]\n",
      "  [0.87843137 0.78431373 0.61176471]\n",
      "  ...\n",
      "  [0.18823529 0.16470588 0.12941176]\n",
      "  [0.38039216 0.3372549  0.2627451 ]\n",
      "  [0.04313725 0.03921569 0.03137255]]\n",
      "\n",
      " [[0.92156863 0.82352941 0.63921569]\n",
      "  [0.91372549 0.81568627 0.63529412]\n",
      "  [0.91372549 0.81568627 0.63529412]\n",
      "  ...\n",
      "  [0.18431373 0.16470588 0.1254902 ]\n",
      "  [0.31372549 0.28235294 0.21960784]\n",
      "  [0.07058824 0.0627451  0.05098039]]\n",
      "\n",
      " [[0.9372549  0.83529412 0.64705882]\n",
      "  [0.9254902  0.82352941 0.63921569]\n",
      "  [0.90196078 0.80392157 0.62352941]\n",
      "  ...\n",
      "  [0.30588235 0.27058824 0.21176471]\n",
      "  [0.32156863 0.28627451 0.22352941]\n",
      "  [0.10980392 0.09803922 0.0745098 ]]]\n"
     ]
    }
   ],
   "source": [
    "# impratirea datelor in date de antrenament si date de validare\n",
    "train_inputs, train_outputs, validation_inputs, validation_outputs = split_data_into_training_and_validation(inputs, real_outputs, 0.8)\n",
    "\n",
    "# normalizarea datelor\n",
    "train_inputs = [el / 255.0 for el in train_inputs]\n",
    "validation_inputs = [el / 255.0 for el in validation_inputs]\n",
    "print(train_inputs[0])"
   ],
   "metadata": {
    "collapsed": false,
    "pycharm": {
     "name": "#%%\n"
    }
   }
  },
  {
   "cell_type": "markdown",
   "source": [
    "### Pasul 3 - Invatare model"
   ],
   "metadata": {
    "collapsed": false,
    "pycharm": {
     "name": "#%% md\n"
    }
   }
  },
  {
   "cell_type": "code",
   "execution_count": 4,
   "outputs": [
    {
     "data": {
      "text/plain": "<keras.callbacks.History at 0x11ef163cc70>"
     },
     "execution_count": 4,
     "metadata": {},
     "output_type": "execute_result"
    }
   ],
   "source": [
    "from keras.optimizer_v2.rmsprop import RMSprop\n",
    "from tensorflow.keras.models import Sequential\n",
    "from tensorflow.keras import layers\n",
    "import numpy as np\n",
    "\n",
    "classifier = Sequential()\n",
    "classifier.add(layers.Conv2D(16, (3, 3), activation='relu', input_shape=(96, 96, 3)))\n",
    "classifier.add(layers.MaxPooling2D((2, 2)))\n",
    "classifier.add(layers.Conv2D(32, (3, 3), activation='relu'))\n",
    "classifier.add(layers.MaxPooling2D((2, 2)))\n",
    "classifier.add(layers.Conv2D(64, (3, 3), activation='relu'))\n",
    "classifier.add(layers.MaxPooling2D((2, 2)))\n",
    "classifier.add(layers.Conv2D(64, (3, 3), activation='relu'))\n",
    "classifier.add(layers.MaxPooling2D((2, 2)))\n",
    "classifier.add(layers.Conv2D(64, (3, 3), activation='relu'))\n",
    "classifier.add(layers.MaxPooling2D((2, 2)))\n",
    "classifier.add(layers.Flatten())\n",
    "classifier.add(layers.Dense(512, activation='relu'))\n",
    "classifier.add(layers.Dense(1, activation='sigmoid'))\n",
    "classifier.compile(loss='binary_crossentropy', optimizer=RMSprop(learning_rate=0.001), metrics=['accuracy'])\n",
    "\n",
    "train_inputs = np.array(train_inputs)\n",
    "train_outputs = np.array(train_outputs)\n",
    "classifier.fit(train_inputs, train_outputs, epochs=10, steps_per_epoch=8, verbose=0)"
   ],
   "metadata": {
    "collapsed": false,
    "pycharm": {
     "name": "#%%\n"
    }
   }
  },
  {
   "cell_type": "markdown",
   "source": [
    "### Pasul 4 - Testarea datelor de validare"
   ],
   "metadata": {
    "collapsed": false,
    "pycharm": {
     "name": "#%% md\n"
    }
   }
  },
  {
   "cell_type": "code",
   "execution_count": 5,
   "outputs": [],
   "source": [
    "validation_inputs = np.array(validation_inputs)\n",
    "predicted_validation_outputs = (classifier.predict(validation_inputs) > 0.5).astype('int32')"
   ],
   "metadata": {
    "collapsed": false,
    "pycharm": {
     "name": "#%%\n"
    }
   }
  },
  {
   "cell_type": "markdown",
   "source": [
    "### Pasul 5 - Calculul acuratetii si afisarea matricei de confuzie"
   ],
   "metadata": {
    "collapsed": false,
    "pycharm": {
     "name": "#%% md\n"
    }
   }
  },
  {
   "cell_type": "code",
   "execution_count": 6,
   "outputs": [
    {
     "name": "stdout",
     "output_type": "stream",
     "text": [
      "Accuracy - by tool: 0.95\n"
     ]
    },
    {
     "data": {
      "text/plain": "<Figure size 432x288 with 2 Axes>",
      "image/png": "[encoded data removed]"
     },
     "metadata": {
      "needs_background": "light"
     },
     "output_type": "display_data"
    }
   ],
   "source": [
    "from sklearn.metrics import accuracy_score, confusion_matrix\n",
    "\n",
    "# calculul acuratetii\n",
    "accuracy = accuracy_score(validation_outputs, predicted_validation_outputs)\n",
    "print('Accuracy - by tool:', accuracy)\n",
    "\n",
    "# afisarea matricei de confuzie\n",
    "cm = confusion_matrix(validation_outputs, predicted_validation_outputs)\n",
    "plot_confusion_matrix(cm, ['normal', 'sepia'], 'Image filtered classification')"
   ],
   "metadata": {
    "collapsed": false,
    "pycharm": {
     "name": "#%%\n"
    }
   }
  },
  {
   "cell_type": "code",
   "execution_count": 6,
   "outputs": [],
   "source": [],
   "metadata": {
    "collapsed": false,
    "pycharm": {
     "name": "#%%\n"
    }
   }
  }
 ],
 "metadata": {
  "kernelspec": {
   "display_name": "Python 3",
   "language": "python",
   "name": "python3"
  },
  "language_info": {
   "codemirror_mode": {
    "name": "ipython",
    "version": 2
   },
   "file_extension": ".py",
   "mimetype": "text/x-python",
   "name": "python",
   "nbconvert_exporter": "python",
   "pygments_lexer": "ipython2",
   "version": "2.7.6"
  }
 },
 "nbformat": 4,
 "nbformat_minor": 0
}